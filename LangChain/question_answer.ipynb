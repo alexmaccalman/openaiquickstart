{
 "cells": [
  {
   "attachments": {},
   "cell_type": "markdown",
   "metadata": {},
   "source": [
    "# LangChain: Q&A over Documents\n",
    "An example might be a tool that would allow you to query a product catalog for items of interest."
   ]
  },
  {
   "cell_type": "code",
   "execution_count": null,
   "metadata": {},
   "outputs": [],
   "source": [
    "%pip install --upgrade langchain"
   ]
  },
  {
   "cell_type": "code",
   "execution_count": 1,
   "metadata": {},
   "outputs": [],
   "source": [
    "import os\n",
    "\n",
    "from dotenv import load_dotenv, find_dotenv\n",
    "_ = load_dotenv(find_dotenv()) # read local .env file"
   ]
  },
  {
   "cell_type": "code",
   "execution_count": 2,
   "metadata": {},
   "outputs": [],
   "source": [
    "from langchain.chains import RetrievalQA\n",
    "from langchain.chat_models import ChatOpenAI\n",
    "from langchain.document_loaders import CSVLoader\n",
    "from langchain.vectorstores import DocArrayInMemorySearch\n",
    "from IPython.display import display, Markdown"
   ]
  },
  {
   "cell_type": "code",
   "execution_count": 3,
   "metadata": {},
   "outputs": [],
   "source": [
    "file = 'OutdoorClothingCatalog_1000.csv'\n",
    "loader = CSVLoader(file_path=file)"
   ]
  },
  {
   "cell_type": "code",
   "execution_count": 4,
   "metadata": {},
   "outputs": [],
   "source": [
    "from langchain.indexes import VectorstoreIndexCreator"
   ]
  },
  {
   "cell_type": "code",
   "execution_count": null,
   "metadata": {},
   "outputs": [],
   "source": [
    "#%pip install docarray"
   ]
  },
  {
   "cell_type": "code",
   "execution_count": 5,
   "metadata": {},
   "outputs": [],
   "source": [
    "index = VectorstoreIndexCreator(\n",
    "    vectorstore_cls=DocArrayInMemorySearch\n",
    ").from_loaders([loader])"
   ]
  },
  {
   "cell_type": "code",
   "execution_count": 6,
   "metadata": {},
   "outputs": [],
   "source": [
    "query =\"Please list all your jeans \\\n",
    "in a table in markdown and summarize each one.\""
   ]
  },
  {
   "cell_type": "code",
   "execution_count": 7,
   "metadata": {},
   "outputs": [],
   "source": [
    "response = index.query(query)"
   ]
  },
  {
   "cell_type": "code",
   "execution_count": 8,
   "metadata": {},
   "outputs": [
    {
     "data": {
      "text/markdown": [
       "\n",
       "\n",
       "| ProductID | ProductName | ProductBrand | Gender | Price (INR) | NumImages | Description | PrimaryColor |\n",
       "|-----------|------------|--------------|-------|-------------|-----------|-------------|--------------|\n",
       "| 1009547  | Slub Blue Washed Slim Jeans | Slub | Men | 1999 | 6 | A pair of blue 5-pocket mid-rise jeans, lightly washed and lightly distressed, has whiskers and chevrons, a button fly closure, and a waistband with belt loops | Blue |\n",
       "| 10145017 | GAP Girls Super Skinny Jeans with Fantastiflex | GAP | Girls | 1149 | 3 | Our tried-and-true classic Premium stretch 1969 denimDark indigo wash.Button at center front (sizes 4-8 have a hook & bar closure beneath faux snap for easy on and off), zip fly.Five-pocket styling.The water used in the process of washing and dyeing these jeans is specially treated to ensure it is safe and clean when it leaves the factory. |  |\n",
       "| 10003569 | Gini and Jony Girls Blue Regular Fit Mid-Rise Clean Look Stretchable Jeans | Gini and Jony | Girls"
      ],
      "text/plain": [
       "<IPython.core.display.Markdown object>"
      ]
     },
     "metadata": {},
     "output_type": "display_data"
    }
   ],
   "source": [
    "display(Markdown(response))"
   ]
  },
  {
   "cell_type": "code",
   "execution_count": 9,
   "metadata": {},
   "outputs": [],
   "source": [
    "loader = CSVLoader(file_path=file)"
   ]
  },
  {
   "cell_type": "code",
   "execution_count": 10,
   "metadata": {},
   "outputs": [],
   "source": [
    "docs = loader.load()"
   ]
  },
  {
   "cell_type": "code",
   "execution_count": 11,
   "metadata": {},
   "outputs": [
    {
     "data": {
      "text/plain": [
       "Document(page_content='ProductID: 10017413\\nProductName: DKNY Unisex Black & Grey Printed Medium Trolley Bag\\nProductBrand: DKNY\\nGender: Unisex\\nPrice (INR): 11745\\nNumImages: 7\\nDescription: Black and grey printed medium trolley bag, secured with a TSA lockOne handle on the top and one on the side, has a trolley with a retractable handle on the top and four corner mounted inline skate wheelsOne main zip compartment, zip lining, two compression straps with click clasps, one zip compartment on the flap with three zip pocketsWarranty: 5 yearsWarranty provided by Brand Owner / Manufacturer\\nPrimaryColor: Black', metadata={'source': 'OutdoorClothingCatalog_1000.csv', 'row': 0})"
      ]
     },
     "execution_count": 11,
     "metadata": {},
     "output_type": "execute_result"
    }
   ],
   "source": [
    "docs[0]"
   ]
  },
  {
   "cell_type": "code",
   "execution_count": 12,
   "metadata": {},
   "outputs": [],
   "source": [
    "from langchain.embeddings import OpenAIEmbeddings\n",
    "embeddings = OpenAIEmbeddings()"
   ]
  },
  {
   "cell_type": "code",
   "execution_count": 13,
   "metadata": {},
   "outputs": [],
   "source": [
    "embed = embeddings.embed_query(\"Hi my name is Harrison\")"
   ]
  },
  {
   "cell_type": "code",
   "execution_count": 14,
   "metadata": {},
   "outputs": [
    {
     "name": "stdout",
     "output_type": "stream",
     "text": [
      "1536\n"
     ]
    }
   ],
   "source": [
    "print(len(embed))"
   ]
  },
  {
   "cell_type": "code",
   "execution_count": 15,
   "metadata": {},
   "outputs": [
    {
     "name": "stdout",
     "output_type": "stream",
     "text": [
      "[-0.021913960576057434, 0.006774206645786762, -0.018190348520874977, -0.039148248732089996, -0.014089343138039112]\n"
     ]
    }
   ],
   "source": [
    "print(embed[:5])"
   ]
  },
  {
   "cell_type": "code",
   "execution_count": 20,
   "metadata": {},
   "outputs": [],
   "source": [
    "db = DocArrayInMemorySearch.from_documents(\n",
    "    docs, \n",
    "    embeddings\n",
    ")"
   ]
  },
  {
   "cell_type": "code",
   "execution_count": 21,
   "metadata": {},
   "outputs": [],
   "source": [
    "query = \"Please suggest a shirt with sunblocking\""
   ]
  },
  {
   "cell_type": "code",
   "execution_count": 22,
   "metadata": {},
   "outputs": [],
   "source": [
    "docs = db.similarity_search(query)"
   ]
  },
  {
   "cell_type": "code",
   "execution_count": 23,
   "metadata": {},
   "outputs": [
    {
     "data": {
      "text/plain": [
       "4"
      ]
     },
     "execution_count": 23,
     "metadata": {},
     "output_type": "execute_result"
    }
   ],
   "source": [
    "len(docs)"
   ]
  },
  {
   "cell_type": "code",
   "execution_count": 24,
   "metadata": {},
   "outputs": [
    {
     "data": {
      "text/plain": [
       "Document(page_content=\"ProductID: 10205415\\nProductName: GAP Men's Vintage Slub Jersey Colorblock T-Shirt\\nProductBrand: GAP\\nGender: Men\\nPrice (INR): 749\\nNumImages: 5\\nDescription: Garment-dyed and washed with a special technique for incredible softness so they already feel like a favoriteMade to be your new everywhere, always-on essentialSoft, airy, textured slub cotton jerseyShort sleevesRib-knit trim at crewneckFront and rear yoke seam detailingColorblock styling throughout\\nPrimaryColor: \", metadata={'source': 'OutdoorClothingCatalog_1000.csv', 'row': 8678})"
      ]
     },
     "execution_count": 24,
     "metadata": {},
     "output_type": "execute_result"
    }
   ],
   "source": [
    "docs[0]"
   ]
  },
  {
   "cell_type": "code",
   "execution_count": 25,
   "metadata": {},
   "outputs": [],
   "source": [
    "retriever = db.as_retriever()"
   ]
  },
  {
   "cell_type": "code",
   "execution_count": 26,
   "metadata": {},
   "outputs": [],
   "source": [
    "llm = ChatOpenAI(temperature = 0.0)"
   ]
  },
  {
   "cell_type": "code",
   "execution_count": 40,
   "metadata": {},
   "outputs": [],
   "source": [
    "qdocs = \"\".join([docs[i].page_content for i in range(len(docs))]) # this does it manually\n"
   ]
  },
  {
   "cell_type": "code",
   "execution_count": 44,
   "metadata": {},
   "outputs": [],
   "source": [
    "response = llm.call_as_llm(f\"{qdocs} Question: Please list all your \\\n",
    "shirts with sun protection in a table in markdown and summarize each one.\")"
   ]
  },
  {
   "cell_type": "code",
   "execution_count": null,
   "metadata": {},
   "outputs": [],
   "source": [
    "display(Markdown(response))"
   ]
  },
  {
   "cell_type": "code",
   "execution_count": 27,
   "metadata": {},
   "outputs": [],
   "source": [
    "# the above can be encapsulated in this code below\n",
    "qa_stuff = RetrievalQA.from_chain_type(\n",
    "    llm=llm, \n",
    "    chain_type=\"stuff\", \n",
    "    retriever=retriever, \n",
    "    verbose=True\n",
    ")"
   ]
  },
  {
   "cell_type": "code",
   "execution_count": 31,
   "metadata": {},
   "outputs": [],
   "source": [
    "query =  \"Please list all jeans in a table \\\n",
    "in markdown and summarize each one.\""
   ]
  },
  {
   "cell_type": "code",
   "execution_count": 32,
   "metadata": {},
   "outputs": [
    {
     "name": "stdout",
     "output_type": "stream",
     "text": [
      "\n",
      "\n",
      "\u001b[1m> Entering new RetrievalQA chain...\u001b[0m\n",
      "\n",
      "\u001b[1m> Finished chain.\u001b[0m\n"
     ]
    }
   ],
   "source": [
    "response = qa_stuff.run(query)"
   ]
  },
  {
   "cell_type": "code",
   "execution_count": 33,
   "metadata": {},
   "outputs": [
    {
     "data": {
      "text/markdown": [
       "| ProductID | ProductName | ProductBrand | Gender | Price (INR) | NumImages | Description | PrimaryColor |\n",
       "|-----------|-------------|--------------|--------|-------------|-----------|-------------|--------------|\n",
       "| 10145017  | GAP Girls Super Skinny Jeans with Fantastiflex | GAP | Girls | 1149 | 3 | Our tried-and-true classic Premium stretch 1969 denimDark indigo wash.Button at center front (sizes 4-8 have a hook & bar closure beneath faux snap for easy on and off), zip fly.Five-pocket styling.The water used in the process of washing and dyeing these jeans is specially treated to ensure it is safe and clean when it leaves the factory. | - |\n",
       "| 10145033  | GAP Girls Superdenim Jeggings with Fantastiflex | GAP | Girls | 899 | 3 | Super stretchy and super soft-for everyday-awesome, saving-the-world type of adventuresPremium 1969 denim with high stretchDark indigo wash with fading and whiskeringElasticized waist, faux flyFaux front curve pockets, back patch pocketsThe water used in the process of washing and dyeing these jeans is specially treated to ensure it is safe and clean when it leaves the factory. | - |\n",
       "| 10180489  | GAP Boys Superdenim Slim Jeans with Fantastiflex | GAP | Boys | 1249 | 4 | Super stretchy and super soft- for everyday-awesome, saving-the-world type of adventuresPremium 1969 denim with high stretchMedium indigo wash with fading and whiskeringButton at center front (sizes 4-8 have a hook & bar closure beneath faux snap for easy on and off), zip flyFive-pocket stylingThe water used in the process of washing and dyeing these jeans is specially treated to ensure it is safe and clean when it leaves the factory | - |\n",
       "| 10144959  | GAP Boys Superdenim Slim Jeans With Fantastiflex | GAP | Boys | 1999 | 3 | Super stretchy and super soft-for everyday-awesome, saving-the-world type of adventuresPremium 1969 denim with high stretchDark indigo washHook & bar closure beneath faux snap for easy on and off, zip flyFive-pocket stylingThe water used in the process of washing and dyeing these jeans is specially treated to ensure it is safe and clean when it leaves the factory | - |\n",
       "\n",
       "Summary:\n",
       "1. GAP Girls Super Skinny Jeans with Fantastiflex: Classic premium stretch denim jeans for girls with a dark indigo wash. Features a button or hook & bar closure, zip fly, and five-pocket styling. The water used in the manufacturing process is treated to ensure safety and cleanliness.\n",
       "2. GAP Girls Superdenim Jeggings with Fantastiflex: Super stretchy and soft jeggings for girls, perfect for everyday adventures. Made with premium denim, these jeggings have a dark indigo wash with fading and whiskering. They have an elasticized waist, faux fly, and faux front curve pockets. The water used in the manufacturing process is treated to ensure safety and cleanliness.\n",
       "3. GAP Boys Superdenim Slim Jeans with Fantastiflex: Super stretchy and soft slim jeans for boys, designed for everyday adventures. Made with premium denim, these jeans have a medium indigo wash with fading and whiskering. They feature a button or hook & bar closure, zip fly, and five-pocket styling. The water used in the manufacturing process is treated to ensure safety and cleanliness.\n",
       "4. GAP Boys Superdenim Slim Jeans With Fantastiflex: Super stretchy and soft slim jeans for boys, perfect for everyday adventures. Made with premium denim, these jeans have a dark indigo wash. They have a hook & bar closure, zip fly, and five-pocket styling. The water used in the manufacturing process is treated to ensure safety and cleanliness."
      ],
      "text/plain": [
       "<IPython.core.display.Markdown object>"
      ]
     },
     "metadata": {},
     "output_type": "display_data"
    }
   ],
   "source": [
    "display(Markdown(response))"
   ]
  },
  {
   "cell_type": "code",
   "execution_count": 34,
   "metadata": {},
   "outputs": [],
   "source": [
    "response = index.query(query, llm=llm) # this does everything in one line"
   ]
  },
  {
   "cell_type": "code",
   "execution_count": null,
   "metadata": {},
   "outputs": [],
   "source": [
    "\n",
    "index = VectorstoreIndexCreator(\n",
    "    vectorstore_cls=DocArrayInMemorySearch,\n",
    "    embedding=embeddings,\n",
    ").from_loaders([loader])"
   ]
  }
 ],
 "metadata": {
  "kernelspec": {
   "display_name": "venv",
   "language": "python",
   "name": "python3"
  },
  "language_info": {
   "codemirror_mode": {
    "name": "ipython",
    "version": 3
   },
   "file_extension": ".py",
   "mimetype": "text/x-python",
   "name": "python",
   "nbconvert_exporter": "python",
   "pygments_lexer": "ipython3",
   "version": "3.10.5"
  },
  "orig_nbformat": 4
 },
 "nbformat": 4,
 "nbformat_minor": 2
}
